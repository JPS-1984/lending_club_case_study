{
 "cells": [
  {
   "cell_type": "code",
   "execution_count": 146,
   "id": "9e058866-7339-4198-8a1a-6e33f31a3e75",
   "metadata": {},
   "outputs": [],
   "source": [
    "import numpy as np\n",
    "import pandas as pd\n",
    "import matplotlib.pyplot as plt\n",
    "import seaborn as sns\n",
    "import warnings \n",
    "warnings.filterwarnings('ignore')"
   ]
  },
  {
   "cell_type": "code",
   "execution_count": 147,
   "id": "91be3f31-4667-4805-8676-3a5d7619350d",
   "metadata": {},
   "outputs": [],
   "source": [
    "#Reading csv and loading as data frame\n",
    "loan_df = pd.read_csv('loan.csv')"
   ]
  },
  {
   "cell_type": "markdown",
   "id": "3d4bcb55-e4d7-4e5b-a678-8cf3fcd12356",
   "metadata": {},
   "source": [
    "### Data Inspection"
   ]
  },
  {
   "cell_type": "code",
   "execution_count": 148,
   "id": "70b77674-706c-4047-b139-a66f6da74bf4",
   "metadata": {},
   "outputs": [
    {
     "data": {
      "text/html": [
       "<div>\n",
       "<style scoped>\n",
       "    .dataframe tbody tr th:only-of-type {\n",
       "        vertical-align: middle;\n",
       "    }\n",
       "\n",
       "    .dataframe tbody tr th {\n",
       "        vertical-align: top;\n",
       "    }\n",
       "\n",
       "    .dataframe thead th {\n",
       "        text-align: right;\n",
       "    }\n",
       "</style>\n",
       "<table border=\"1\" class=\"dataframe\">\n",
       "  <thead>\n",
       "    <tr style=\"text-align: right;\">\n",
       "      <th></th>\n",
       "      <th>id</th>\n",
       "      <th>member_id</th>\n",
       "      <th>loan_amnt</th>\n",
       "      <th>funded_amnt</th>\n",
       "      <th>funded_amnt_inv</th>\n",
       "      <th>term</th>\n",
       "      <th>int_rate</th>\n",
       "      <th>installment</th>\n",
       "      <th>grade</th>\n",
       "      <th>sub_grade</th>\n",
       "      <th>...</th>\n",
       "      <th>num_tl_90g_dpd_24m</th>\n",
       "      <th>num_tl_op_past_12m</th>\n",
       "      <th>pct_tl_nvr_dlq</th>\n",
       "      <th>percent_bc_gt_75</th>\n",
       "      <th>pub_rec_bankruptcies</th>\n",
       "      <th>tax_liens</th>\n",
       "      <th>tot_hi_cred_lim</th>\n",
       "      <th>total_bal_ex_mort</th>\n",
       "      <th>total_bc_limit</th>\n",
       "      <th>total_il_high_credit_limit</th>\n",
       "    </tr>\n",
       "  </thead>\n",
       "  <tbody>\n",
       "    <tr>\n",
       "      <th>0</th>\n",
       "      <td>1077501</td>\n",
       "      <td>1296599</td>\n",
       "      <td>5000</td>\n",
       "      <td>5000</td>\n",
       "      <td>4975.0</td>\n",
       "      <td>36 months</td>\n",
       "      <td>10.65%</td>\n",
       "      <td>162.87</td>\n",
       "      <td>B</td>\n",
       "      <td>B2</td>\n",
       "      <td>...</td>\n",
       "      <td>NaN</td>\n",
       "      <td>NaN</td>\n",
       "      <td>NaN</td>\n",
       "      <td>NaN</td>\n",
       "      <td>0.0</td>\n",
       "      <td>0.0</td>\n",
       "      <td>NaN</td>\n",
       "      <td>NaN</td>\n",
       "      <td>NaN</td>\n",
       "      <td>NaN</td>\n",
       "    </tr>\n",
       "    <tr>\n",
       "      <th>1</th>\n",
       "      <td>1077430</td>\n",
       "      <td>1314167</td>\n",
       "      <td>2500</td>\n",
       "      <td>2500</td>\n",
       "      <td>2500.0</td>\n",
       "      <td>60 months</td>\n",
       "      <td>15.27%</td>\n",
       "      <td>59.83</td>\n",
       "      <td>C</td>\n",
       "      <td>C4</td>\n",
       "      <td>...</td>\n",
       "      <td>NaN</td>\n",
       "      <td>NaN</td>\n",
       "      <td>NaN</td>\n",
       "      <td>NaN</td>\n",
       "      <td>0.0</td>\n",
       "      <td>0.0</td>\n",
       "      <td>NaN</td>\n",
       "      <td>NaN</td>\n",
       "      <td>NaN</td>\n",
       "      <td>NaN</td>\n",
       "    </tr>\n",
       "    <tr>\n",
       "      <th>2</th>\n",
       "      <td>1077175</td>\n",
       "      <td>1313524</td>\n",
       "      <td>2400</td>\n",
       "      <td>2400</td>\n",
       "      <td>2400.0</td>\n",
       "      <td>36 months</td>\n",
       "      <td>15.96%</td>\n",
       "      <td>84.33</td>\n",
       "      <td>C</td>\n",
       "      <td>C5</td>\n",
       "      <td>...</td>\n",
       "      <td>NaN</td>\n",
       "      <td>NaN</td>\n",
       "      <td>NaN</td>\n",
       "      <td>NaN</td>\n",
       "      <td>0.0</td>\n",
       "      <td>0.0</td>\n",
       "      <td>NaN</td>\n",
       "      <td>NaN</td>\n",
       "      <td>NaN</td>\n",
       "      <td>NaN</td>\n",
       "    </tr>\n",
       "    <tr>\n",
       "      <th>3</th>\n",
       "      <td>1076863</td>\n",
       "      <td>1277178</td>\n",
       "      <td>10000</td>\n",
       "      <td>10000</td>\n",
       "      <td>10000.0</td>\n",
       "      <td>36 months</td>\n",
       "      <td>13.49%</td>\n",
       "      <td>339.31</td>\n",
       "      <td>C</td>\n",
       "      <td>C1</td>\n",
       "      <td>...</td>\n",
       "      <td>NaN</td>\n",
       "      <td>NaN</td>\n",
       "      <td>NaN</td>\n",
       "      <td>NaN</td>\n",
       "      <td>0.0</td>\n",
       "      <td>0.0</td>\n",
       "      <td>NaN</td>\n",
       "      <td>NaN</td>\n",
       "      <td>NaN</td>\n",
       "      <td>NaN</td>\n",
       "    </tr>\n",
       "    <tr>\n",
       "      <th>4</th>\n",
       "      <td>1075358</td>\n",
       "      <td>1311748</td>\n",
       "      <td>3000</td>\n",
       "      <td>3000</td>\n",
       "      <td>3000.0</td>\n",
       "      <td>60 months</td>\n",
       "      <td>12.69%</td>\n",
       "      <td>67.79</td>\n",
       "      <td>B</td>\n",
       "      <td>B5</td>\n",
       "      <td>...</td>\n",
       "      <td>NaN</td>\n",
       "      <td>NaN</td>\n",
       "      <td>NaN</td>\n",
       "      <td>NaN</td>\n",
       "      <td>0.0</td>\n",
       "      <td>0.0</td>\n",
       "      <td>NaN</td>\n",
       "      <td>NaN</td>\n",
       "      <td>NaN</td>\n",
       "      <td>NaN</td>\n",
       "    </tr>\n",
       "  </tbody>\n",
       "</table>\n",
       "<p>5 rows × 111 columns</p>\n",
       "</div>"
      ],
      "text/plain": [
       "        id  member_id  loan_amnt  funded_amnt  funded_amnt_inv        term  \\\n",
       "0  1077501    1296599       5000         5000           4975.0   36 months   \n",
       "1  1077430    1314167       2500         2500           2500.0   60 months   \n",
       "2  1077175    1313524       2400         2400           2400.0   36 months   \n",
       "3  1076863    1277178      10000        10000          10000.0   36 months   \n",
       "4  1075358    1311748       3000         3000           3000.0   60 months   \n",
       "\n",
       "  int_rate  installment grade sub_grade  ... num_tl_90g_dpd_24m  \\\n",
       "0   10.65%       162.87     B        B2  ...                NaN   \n",
       "1   15.27%        59.83     C        C4  ...                NaN   \n",
       "2   15.96%        84.33     C        C5  ...                NaN   \n",
       "3   13.49%       339.31     C        C1  ...                NaN   \n",
       "4   12.69%        67.79     B        B5  ...                NaN   \n",
       "\n",
       "  num_tl_op_past_12m pct_tl_nvr_dlq  percent_bc_gt_75 pub_rec_bankruptcies  \\\n",
       "0                NaN            NaN               NaN                  0.0   \n",
       "1                NaN            NaN               NaN                  0.0   \n",
       "2                NaN            NaN               NaN                  0.0   \n",
       "3                NaN            NaN               NaN                  0.0   \n",
       "4                NaN            NaN               NaN                  0.0   \n",
       "\n",
       "  tax_liens tot_hi_cred_lim total_bal_ex_mort total_bc_limit  \\\n",
       "0       0.0             NaN               NaN            NaN   \n",
       "1       0.0             NaN               NaN            NaN   \n",
       "2       0.0             NaN               NaN            NaN   \n",
       "3       0.0             NaN               NaN            NaN   \n",
       "4       0.0             NaN               NaN            NaN   \n",
       "\n",
       "  total_il_high_credit_limit  \n",
       "0                        NaN  \n",
       "1                        NaN  \n",
       "2                        NaN  \n",
       "3                        NaN  \n",
       "4                        NaN  \n",
       "\n",
       "[5 rows x 111 columns]"
      ]
     },
     "execution_count": 148,
     "metadata": {},
     "output_type": "execute_result"
    }
   ],
   "source": [
    "#looking if there are any headers available\n",
    "loan_df.head()"
   ]
  },
  {
   "cell_type": "code",
   "execution_count": 149,
   "id": "68733fa3-a8ad-4a9a-b4b7-d1b36320e667",
   "metadata": {},
   "outputs": [
    {
     "data": {
      "text/html": [
       "<div>\n",
       "<style scoped>\n",
       "    .dataframe tbody tr th:only-of-type {\n",
       "        vertical-align: middle;\n",
       "    }\n",
       "\n",
       "    .dataframe tbody tr th {\n",
       "        vertical-align: top;\n",
       "    }\n",
       "\n",
       "    .dataframe thead th {\n",
       "        text-align: right;\n",
       "    }\n",
       "</style>\n",
       "<table border=\"1\" class=\"dataframe\">\n",
       "  <thead>\n",
       "    <tr style=\"text-align: right;\">\n",
       "      <th></th>\n",
       "      <th>id</th>\n",
       "      <th>member_id</th>\n",
       "      <th>loan_amnt</th>\n",
       "      <th>funded_amnt</th>\n",
       "      <th>funded_amnt_inv</th>\n",
       "      <th>term</th>\n",
       "      <th>int_rate</th>\n",
       "      <th>installment</th>\n",
       "      <th>grade</th>\n",
       "      <th>sub_grade</th>\n",
       "      <th>...</th>\n",
       "      <th>num_tl_90g_dpd_24m</th>\n",
       "      <th>num_tl_op_past_12m</th>\n",
       "      <th>pct_tl_nvr_dlq</th>\n",
       "      <th>percent_bc_gt_75</th>\n",
       "      <th>pub_rec_bankruptcies</th>\n",
       "      <th>tax_liens</th>\n",
       "      <th>tot_hi_cred_lim</th>\n",
       "      <th>total_bal_ex_mort</th>\n",
       "      <th>total_bc_limit</th>\n",
       "      <th>total_il_high_credit_limit</th>\n",
       "    </tr>\n",
       "  </thead>\n",
       "  <tbody>\n",
       "    <tr>\n",
       "      <th>39712</th>\n",
       "      <td>92187</td>\n",
       "      <td>92174</td>\n",
       "      <td>2500</td>\n",
       "      <td>2500</td>\n",
       "      <td>1075.0</td>\n",
       "      <td>36 months</td>\n",
       "      <td>8.07%</td>\n",
       "      <td>78.42</td>\n",
       "      <td>A</td>\n",
       "      <td>A4</td>\n",
       "      <td>...</td>\n",
       "      <td>NaN</td>\n",
       "      <td>NaN</td>\n",
       "      <td>NaN</td>\n",
       "      <td>NaN</td>\n",
       "      <td>NaN</td>\n",
       "      <td>NaN</td>\n",
       "      <td>NaN</td>\n",
       "      <td>NaN</td>\n",
       "      <td>NaN</td>\n",
       "      <td>NaN</td>\n",
       "    </tr>\n",
       "    <tr>\n",
       "      <th>39713</th>\n",
       "      <td>90665</td>\n",
       "      <td>90607</td>\n",
       "      <td>8500</td>\n",
       "      <td>8500</td>\n",
       "      <td>875.0</td>\n",
       "      <td>36 months</td>\n",
       "      <td>10.28%</td>\n",
       "      <td>275.38</td>\n",
       "      <td>C</td>\n",
       "      <td>C1</td>\n",
       "      <td>...</td>\n",
       "      <td>NaN</td>\n",
       "      <td>NaN</td>\n",
       "      <td>NaN</td>\n",
       "      <td>NaN</td>\n",
       "      <td>NaN</td>\n",
       "      <td>NaN</td>\n",
       "      <td>NaN</td>\n",
       "      <td>NaN</td>\n",
       "      <td>NaN</td>\n",
       "      <td>NaN</td>\n",
       "    </tr>\n",
       "    <tr>\n",
       "      <th>39714</th>\n",
       "      <td>90395</td>\n",
       "      <td>90390</td>\n",
       "      <td>5000</td>\n",
       "      <td>5000</td>\n",
       "      <td>1325.0</td>\n",
       "      <td>36 months</td>\n",
       "      <td>8.07%</td>\n",
       "      <td>156.84</td>\n",
       "      <td>A</td>\n",
       "      <td>A4</td>\n",
       "      <td>...</td>\n",
       "      <td>NaN</td>\n",
       "      <td>NaN</td>\n",
       "      <td>NaN</td>\n",
       "      <td>NaN</td>\n",
       "      <td>NaN</td>\n",
       "      <td>NaN</td>\n",
       "      <td>NaN</td>\n",
       "      <td>NaN</td>\n",
       "      <td>NaN</td>\n",
       "      <td>NaN</td>\n",
       "    </tr>\n",
       "    <tr>\n",
       "      <th>39715</th>\n",
       "      <td>90376</td>\n",
       "      <td>89243</td>\n",
       "      <td>5000</td>\n",
       "      <td>5000</td>\n",
       "      <td>650.0</td>\n",
       "      <td>36 months</td>\n",
       "      <td>7.43%</td>\n",
       "      <td>155.38</td>\n",
       "      <td>A</td>\n",
       "      <td>A2</td>\n",
       "      <td>...</td>\n",
       "      <td>NaN</td>\n",
       "      <td>NaN</td>\n",
       "      <td>NaN</td>\n",
       "      <td>NaN</td>\n",
       "      <td>NaN</td>\n",
       "      <td>NaN</td>\n",
       "      <td>NaN</td>\n",
       "      <td>NaN</td>\n",
       "      <td>NaN</td>\n",
       "      <td>NaN</td>\n",
       "    </tr>\n",
       "    <tr>\n",
       "      <th>39716</th>\n",
       "      <td>87023</td>\n",
       "      <td>86999</td>\n",
       "      <td>7500</td>\n",
       "      <td>7500</td>\n",
       "      <td>800.0</td>\n",
       "      <td>36 months</td>\n",
       "      <td>13.75%</td>\n",
       "      <td>255.43</td>\n",
       "      <td>E</td>\n",
       "      <td>E2</td>\n",
       "      <td>...</td>\n",
       "      <td>NaN</td>\n",
       "      <td>NaN</td>\n",
       "      <td>NaN</td>\n",
       "      <td>NaN</td>\n",
       "      <td>NaN</td>\n",
       "      <td>NaN</td>\n",
       "      <td>NaN</td>\n",
       "      <td>NaN</td>\n",
       "      <td>NaN</td>\n",
       "      <td>NaN</td>\n",
       "    </tr>\n",
       "  </tbody>\n",
       "</table>\n",
       "<p>5 rows × 111 columns</p>\n",
       "</div>"
      ],
      "text/plain": [
       "          id  member_id  loan_amnt  funded_amnt  funded_amnt_inv        term  \\\n",
       "39712  92187      92174       2500         2500           1075.0   36 months   \n",
       "39713  90665      90607       8500         8500            875.0   36 months   \n",
       "39714  90395      90390       5000         5000           1325.0   36 months   \n",
       "39715  90376      89243       5000         5000            650.0   36 months   \n",
       "39716  87023      86999       7500         7500            800.0   36 months   \n",
       "\n",
       "      int_rate  installment grade sub_grade  ... num_tl_90g_dpd_24m  \\\n",
       "39712    8.07%        78.42     A        A4  ...                NaN   \n",
       "39713   10.28%       275.38     C        C1  ...                NaN   \n",
       "39714    8.07%       156.84     A        A4  ...                NaN   \n",
       "39715    7.43%       155.38     A        A2  ...                NaN   \n",
       "39716   13.75%       255.43     E        E2  ...                NaN   \n",
       "\n",
       "      num_tl_op_past_12m pct_tl_nvr_dlq  percent_bc_gt_75  \\\n",
       "39712                NaN            NaN               NaN   \n",
       "39713                NaN            NaN               NaN   \n",
       "39714                NaN            NaN               NaN   \n",
       "39715                NaN            NaN               NaN   \n",
       "39716                NaN            NaN               NaN   \n",
       "\n",
       "      pub_rec_bankruptcies tax_liens tot_hi_cred_lim total_bal_ex_mort  \\\n",
       "39712                  NaN       NaN             NaN               NaN   \n",
       "39713                  NaN       NaN             NaN               NaN   \n",
       "39714                  NaN       NaN             NaN               NaN   \n",
       "39715                  NaN       NaN             NaN               NaN   \n",
       "39716                  NaN       NaN             NaN               NaN   \n",
       "\n",
       "      total_bc_limit total_il_high_credit_limit  \n",
       "39712            NaN                        NaN  \n",
       "39713            NaN                        NaN  \n",
       "39714            NaN                        NaN  \n",
       "39715            NaN                        NaN  \n",
       "39716            NaN                        NaN  \n",
       "\n",
       "[5 rows x 111 columns]"
      ]
     },
     "execution_count": 149,
     "metadata": {},
     "output_type": "execute_result"
    }
   ],
   "source": [
    "#looking if there are any footers available\n",
    "loan_df.tail()"
   ]
  },
  {
   "cell_type": "code",
   "execution_count": 150,
   "id": "36e529d9-4020-4de5-a8c1-79e2d6e1a1da",
   "metadata": {},
   "outputs": [
    {
     "data": {
      "text/plain": [
       "(39717, 111)"
      ]
     },
     "execution_count": 150,
     "metadata": {},
     "output_type": "execute_result"
    }
   ],
   "source": [
    "#Printing number of rows and columns\n",
    "loan_df.shape"
   ]
  },
  {
   "cell_type": "code",
   "execution_count": 151,
   "id": "6edcc36a-eaff-4dc1-9392-871e00703981",
   "metadata": {},
   "outputs": [
    {
     "data": {
      "text/plain": [
       "loan_status\n",
       "Fully Paid     32950\n",
       "Charged Off     5627\n",
       "Current         1140\n",
       "Name: count, dtype: int64"
      ]
     },
     "execution_count": 151,
     "metadata": {},
     "output_type": "execute_result"
    }
   ],
   "source": [
    "loan_df['loan_status'].value_counts()"
   ]
  },
  {
   "cell_type": "code",
   "execution_count": 152,
   "id": "9d400ede-ad9e-4ee3-af60-7863f889c62e",
   "metadata": {},
   "outputs": [],
   "source": [
    "#Current running loans will not provide any insight to default\n",
    "loan_df = loan_df[~(loan_df['loan_status'] == 'Current')]"
   ]
  },
  {
   "cell_type": "code",
   "execution_count": 153,
   "id": "62ac3f76-70bc-4a9a-b015-0bc69038df1c",
   "metadata": {},
   "outputs": [],
   "source": [
    "#columns which are not relevant to loan decision\n",
    "columns_having_post_loan_data=['acc_now_delinq', 'chargeoff_within_12_mths', 'collection_recovery_fee', 'collections_12_mths_ex_med', 'earliest_cr_line', 'delinq_amnt',\n",
    "                              'last_pymnt_amnt', 'last_pymnt_d', 'mths_since_last_delinq', 'next_pymnt_d', 'out_prncp', 'out_prncp_inv', 'recoveries', 'total_bal_il',\n",
    "                              'total_pymnt', 'total_pymnt_inv', 'total_rec_int', 'total_rec_late_fee', 'total_rec_prncp']"
   ]
  },
  {
   "cell_type": "code",
   "execution_count": 154,
   "id": "dcab5d7e-4eaa-420b-a354-f14e972a2e88",
   "metadata": {},
   "outputs": [],
   "source": [
    "loan_df = loan_df.drop(columns_having_post_loan_data, axis=1)"
   ]
  },
  {
   "cell_type": "code",
   "execution_count": 155,
   "id": "87860d3f-078b-4993-b2d7-33689db1a22a",
   "metadata": {},
   "outputs": [
    {
     "data": {
      "text/plain": [
       "id                              0.000000\n",
       "member_id                       0.000000\n",
       "loan_amnt                       0.000000\n",
       "funded_amnt                     0.000000\n",
       "funded_amnt_inv                 0.000000\n",
       "                                 ...    \n",
       "tax_liens                       0.101097\n",
       "tot_hi_cred_lim               100.000000\n",
       "total_bal_ex_mort             100.000000\n",
       "total_bc_limit                100.000000\n",
       "total_il_high_credit_limit    100.000000\n",
       "Length: 92, dtype: float64"
      ]
     },
     "execution_count": 155,
     "metadata": {},
     "output_type": "execute_result"
    }
   ],
   "source": [
    "#checking percentage of missing values in data frame\n",
    "100 * loan_df.isna().sum() / len(loan_df)"
   ]
  },
  {
   "cell_type": "code",
   "execution_count": 156,
   "id": "4931dd7e-3919-4243-9b66-203365254d0d",
   "metadata": {},
   "outputs": [],
   "source": [
    "#Many columns had all values as NA; dropping those columns\n",
    "loan_df = loan_df.dropna(how='all', axis=1)"
   ]
  },
  {
   "cell_type": "code",
   "execution_count": 157,
   "id": "ed848295-c735-406e-948c-070b4db38edc",
   "metadata": {},
   "outputs": [
    {
     "data": {
      "text/plain": [
       "(38577, 39)"
      ]
     },
     "execution_count": 157,
     "metadata": {},
     "output_type": "execute_result"
    }
   ],
   "source": [
    "loan_df.shape"
   ]
  },
  {
   "cell_type": "code",
   "execution_count": 158,
   "id": "eb0e0d82-793a-4b43-bf58-41844c1ffc65",
   "metadata": {},
   "outputs": [
    {
     "data": {
      "text/plain": [
       "tax_liens                     1\n",
       "pymnt_plan                    1\n",
       "policy_code                   1\n",
       "initial_list_status           1\n",
       "application_type              1\n",
       "loan_status                   2\n",
       "term                          2\n",
       "verification_status           3\n",
       "pub_rec_bankruptcies          3\n",
       "home_ownership                5\n",
       "pub_rec                       5\n",
       "grade                         7\n",
       "inq_last_6mths                9\n",
       "emp_length                   11\n",
       "delinq_2yrs                  11\n",
       "purpose                      14\n",
       "sub_grade                    35\n",
       "open_acc                     40\n",
       "addr_state                   50\n",
       "issue_d                      55\n",
       "total_acc                    82\n",
       "last_credit_pull_d          106\n",
       "mths_since_last_record      111\n",
       "int_rate                    370\n",
       "zip_code                    822\n",
       "loan_amnt                   870\n",
       "funded_amnt                1019\n",
       "revol_util                 1088\n",
       "dti                        2853\n",
       "annual_inc                 5215\n",
       "funded_amnt_inv            8050\n",
       "installment               15022\n",
       "title                     19297\n",
       "revol_bal                 21275\n",
       "desc                      25802\n",
       "emp_title                 28027\n",
       "member_id                 38577\n",
       "url                       38577\n",
       "id                        38577\n",
       "dtype: int64"
      ]
     },
     "execution_count": 158,
     "metadata": {},
     "output_type": "execute_result"
    }
   ],
   "source": [
    "feature_wise_unique_values = loan_df.nunique()\n",
    "feature_wise_unique_values.sort_values()"
   ]
  },
  {
   "cell_type": "code",
   "execution_count": 159,
   "id": "d648366c-09df-4e70-b2b1-59c8a2a601f0",
   "metadata": {},
   "outputs": [],
   "source": [
    "#removing columns having only 1 unique value\n",
    "columns_to_drop = feature_wise_unique_values[nunique == 1].index\n",
    "loan_df = loan_df.drop(columns_to_drop, axis=1)"
   ]
  },
  {
   "cell_type": "code",
   "execution_count": 160,
   "id": "b860d9a5-8efe-407d-886b-a8412cde05aa",
   "metadata": {},
   "outputs": [],
   "source": [
    "columns_having_all_distinct_values = feature_wise_unique_values[nunique == len(loan_df)].index\n",
    "loan_df = loan_df.drop(columns_having_all_distinct_values, axis=1)"
   ]
  },
  {
   "cell_type": "code",
   "execution_count": 161,
   "id": "f6e07291-6550-4763-a825-729824c050c8",
   "metadata": {},
   "outputs": [],
   "source": [
    "#removing mths_since_last_record column as it is missing more than 90% values\n",
    "loan_df = loan_df.drop('mths_since_last_record', axis=1)"
   ]
  },
  {
   "cell_type": "code",
   "execution_count": 162,
   "id": "957e70e8-ed2d-48c1-93f2-f3d34fd444d6",
   "metadata": {},
   "outputs": [],
   "source": [
    "#dropping 'desc' columns as it is having multiple paragraphs and will not be meaningful for EDA\n",
    "loan_df = loan_df.drop('desc', axis=1)"
   ]
  },
  {
   "cell_type": "code",
   "execution_count": 163,
   "id": "9480baf9-354d-4421-8642-2204f55ba1ec",
   "metadata": {},
   "outputs": [
    {
     "data": {
      "text/plain": [
       "loan_amnt               0.000000\n",
       "funded_amnt             0.000000\n",
       "funded_amnt_inv         0.000000\n",
       "term                    0.000000\n",
       "int_rate                0.000000\n",
       "installment             0.000000\n",
       "grade                   0.000000\n",
       "sub_grade               0.000000\n",
       "emp_title               6.185033\n",
       "emp_length              2.677761\n",
       "home_ownership          0.000000\n",
       "annual_inc              0.000000\n",
       "verification_status     0.000000\n",
       "issue_d                 0.000000\n",
       "loan_status             0.000000\n",
       "purpose                 0.000000\n",
       "title                   0.028514\n",
       "zip_code                0.000000\n",
       "addr_state              0.000000\n",
       "dti                     0.000000\n",
       "delinq_2yrs             0.000000\n",
       "inq_last_6mths          0.000000\n",
       "open_acc                0.000000\n",
       "pub_rec                 0.000000\n",
       "revol_bal               0.000000\n",
       "revol_util              0.129611\n",
       "total_acc               0.000000\n",
       "last_credit_pull_d      0.005184\n",
       "pub_rec_bankruptcies    1.806776\n",
       "dtype: float64"
      ]
     },
     "execution_count": 163,
     "metadata": {},
     "output_type": "execute_result"
    }
   ],
   "source": [
    "100 * loan_df.isna().sum() / len(loan_df)"
   ]
  },
  {
   "cell_type": "code",
   "execution_count": 164,
   "id": "c2360070-69db-4aac-83cf-bdd4aab64f25",
   "metadata": {},
   "outputs": [
    {
     "data": {
      "text/plain": [
       "pub_rec_bankruptcies\n",
       "0.0    36238\n",
       "1.0     1637\n",
       "2.0        5\n",
       "Name: count, dtype: int64"
      ]
     },
     "execution_count": 164,
     "metadata": {},
     "output_type": "execute_result"
    }
   ],
   "source": [
    "loan_df['pub_rec_bankruptcies'].value_counts()"
   ]
  },
  {
   "cell_type": "code",
   "execution_count": 165,
   "id": "b014a4eb-b1ee-4db8-b5fb-9e47ae9b098e",
   "metadata": {},
   "outputs": [
    {
     "data": {
      "text/plain": [
       "(38577, 29)"
      ]
     },
     "execution_count": 165,
     "metadata": {},
     "output_type": "execute_result"
    }
   ],
   "source": [
    "loan_df.shape"
   ]
  },
  {
   "cell_type": "code",
   "execution_count": 166,
   "id": "d797907c-b48e-47d0-a605-7df3a2ad27e4",
   "metadata": {},
   "outputs": [],
   "source": [
    "loan_df = loan_df[~(loan_df['pub_rec_bankruptcies'].isna())]"
   ]
  },
  {
   "cell_type": "code",
   "execution_count": 167,
   "id": "84dd0813-3769-48d7-94f6-b51d0c78c70f",
   "metadata": {},
   "outputs": [
    {
     "data": {
      "text/plain": [
       "(37880, 29)"
      ]
     },
     "execution_count": 167,
     "metadata": {},
     "output_type": "execute_result"
    }
   ],
   "source": [
    "loan_df.shape"
   ]
  },
  {
   "cell_type": "code",
   "execution_count": 168,
   "id": "7d314944-d79e-4aec-98fd-6c8d1f71f44d",
   "metadata": {},
   "outputs": [
    {
     "data": {
      "text/plain": [
       "loan_amnt               0.000000\n",
       "funded_amnt             0.000000\n",
       "funded_amnt_inv         0.000000\n",
       "term                    0.000000\n",
       "int_rate                0.000000\n",
       "installment             0.000000\n",
       "grade                   0.000000\n",
       "sub_grade               0.000000\n",
       "emp_title               6.185322\n",
       "emp_length              2.727033\n",
       "home_ownership          0.000000\n",
       "annual_inc              0.000000\n",
       "verification_status     0.000000\n",
       "issue_d                 0.000000\n",
       "loan_status             0.000000\n",
       "purpose                 0.000000\n",
       "title                   0.029039\n",
       "zip_code                0.000000\n",
       "addr_state              0.000000\n",
       "dti                     0.000000\n",
       "delinq_2yrs             0.000000\n",
       "inq_last_6mths          0.000000\n",
       "open_acc                0.000000\n",
       "pub_rec                 0.000000\n",
       "revol_bal               0.000000\n",
       "revol_util              0.131996\n",
       "total_acc               0.000000\n",
       "last_credit_pull_d      0.002640\n",
       "pub_rec_bankruptcies    0.000000\n",
       "dtype: float64"
      ]
     },
     "execution_count": 168,
     "metadata": {},
     "output_type": "execute_result"
    }
   ],
   "source": [
    "100 * loan_df.isna().sum() / len(loan_df)"
   ]
  },
  {
   "cell_type": "code",
   "execution_count": 169,
   "id": "4da07ecc-e42e-4b30-a726-086ec64d6f16",
   "metadata": {},
   "outputs": [
    {
     "data": {
      "text/html": [
       "<div>\n",
       "<style scoped>\n",
       "    .dataframe tbody tr th:only-of-type {\n",
       "        vertical-align: middle;\n",
       "    }\n",
       "\n",
       "    .dataframe tbody tr th {\n",
       "        vertical-align: top;\n",
       "    }\n",
       "\n",
       "    .dataframe thead th {\n",
       "        text-align: right;\n",
       "    }\n",
       "</style>\n",
       "<table border=\"1\" class=\"dataframe\">\n",
       "  <thead>\n",
       "    <tr style=\"text-align: right;\">\n",
       "      <th></th>\n",
       "      <th>loan_amnt</th>\n",
       "      <th>funded_amnt</th>\n",
       "      <th>funded_amnt_inv</th>\n",
       "      <th>term</th>\n",
       "      <th>int_rate</th>\n",
       "      <th>installment</th>\n",
       "      <th>grade</th>\n",
       "      <th>sub_grade</th>\n",
       "      <th>emp_title</th>\n",
       "      <th>emp_length</th>\n",
       "      <th>...</th>\n",
       "      <th>dti</th>\n",
       "      <th>delinq_2yrs</th>\n",
       "      <th>inq_last_6mths</th>\n",
       "      <th>open_acc</th>\n",
       "      <th>pub_rec</th>\n",
       "      <th>revol_bal</th>\n",
       "      <th>revol_util</th>\n",
       "      <th>total_acc</th>\n",
       "      <th>last_credit_pull_d</th>\n",
       "      <th>pub_rec_bankruptcies</th>\n",
       "    </tr>\n",
       "  </thead>\n",
       "  <tbody>\n",
       "    <tr>\n",
       "      <th>23591</th>\n",
       "      <td>3000</td>\n",
       "      <td>3000</td>\n",
       "      <td>2900.0</td>\n",
       "      <td>36 months</td>\n",
       "      <td>5.79%</td>\n",
       "      <td>90.99</td>\n",
       "      <td>A</td>\n",
       "      <td>A2</td>\n",
       "      <td>Other</td>\n",
       "      <td>1 year</td>\n",
       "      <td>...</td>\n",
       "      <td>17.41</td>\n",
       "      <td>0</td>\n",
       "      <td>0</td>\n",
       "      <td>8</td>\n",
       "      <td>0</td>\n",
       "      <td>2171</td>\n",
       "      <td>15.40%</td>\n",
       "      <td>10</td>\n",
       "      <td>Aug-12</td>\n",
       "      <td>0.0</td>\n",
       "    </tr>\n",
       "  </tbody>\n",
       "</table>\n",
       "<p>1 rows × 29 columns</p>\n",
       "</div>"
      ],
      "text/plain": [
       "       loan_amnt  funded_amnt  funded_amnt_inv        term int_rate  \\\n",
       "23591       3000         3000           2900.0   36 months    5.79%   \n",
       "\n",
       "       installment grade sub_grade emp_title emp_length  ...    dti  \\\n",
       "23591        90.99     A        A2     Other     1 year  ...  17.41   \n",
       "\n",
       "       delinq_2yrs inq_last_6mths open_acc pub_rec revol_bal revol_util  \\\n",
       "23591            0              0        8       0      2171     15.40%   \n",
       "\n",
       "      total_acc last_credit_pull_d  pub_rec_bankruptcies  \n",
       "23591        10             Aug-12                   0.0  \n",
       "\n",
       "[1 rows x 29 columns]"
      ]
     },
     "execution_count": 169,
     "metadata": {},
     "output_type": "execute_result"
    }
   ],
   "source": [
    "loan_df[loan_df['emp_title'] == 'Other']"
   ]
  },
  {
   "cell_type": "code",
   "execution_count": 170,
   "id": "e71df47b-b3ed-4511-899a-2dd9e3e099a8",
   "metadata": {},
   "outputs": [],
   "source": [
    "loan_df['emp_title'].fillna('Other', inplace=True)"
   ]
  },
  {
   "cell_type": "code",
   "execution_count": 171,
   "id": "76bfa4e0-9c01-4ba2-8ae8-2bf3195b9750",
   "metadata": {},
   "outputs": [
    {
     "data": {
      "text/plain": [
       "loan_amnt               0.000000\n",
       "funded_amnt             0.000000\n",
       "funded_amnt_inv         0.000000\n",
       "term                    0.000000\n",
       "int_rate                0.000000\n",
       "installment             0.000000\n",
       "grade                   0.000000\n",
       "sub_grade               0.000000\n",
       "emp_title               0.000000\n",
       "emp_length              2.727033\n",
       "home_ownership          0.000000\n",
       "annual_inc              0.000000\n",
       "verification_status     0.000000\n",
       "issue_d                 0.000000\n",
       "loan_status             0.000000\n",
       "purpose                 0.000000\n",
       "title                   0.029039\n",
       "zip_code                0.000000\n",
       "addr_state              0.000000\n",
       "dti                     0.000000\n",
       "delinq_2yrs             0.000000\n",
       "inq_last_6mths          0.000000\n",
       "open_acc                0.000000\n",
       "pub_rec                 0.000000\n",
       "revol_bal               0.000000\n",
       "revol_util              0.131996\n",
       "total_acc               0.000000\n",
       "last_credit_pull_d      0.002640\n",
       "pub_rec_bankruptcies    0.000000\n",
       "dtype: float64"
      ]
     },
     "execution_count": 171,
     "metadata": {},
     "output_type": "execute_result"
    }
   ],
   "source": [
    "100 * loan_df.isna().sum() / len(loan_df)"
   ]
  },
  {
   "cell_type": "code",
   "execution_count": 174,
   "id": "f7444f23-af44-49c0-8f89-d43d9367d6d8",
   "metadata": {},
   "outputs": [
    {
     "data": {
      "text/plain": [
       "emp_length\n",
       "10+ years    8369\n",
       "< 1 year     4341\n",
       "2 years      4207\n",
       "3 years      3951\n",
       "4 years      3297\n",
       "5 years      3161\n",
       "1 year       3077\n",
       "6 years      2136\n",
       "7 years      1689\n",
       "8 years      1410\n",
       "9 years      1209\n",
       "Name: count, dtype: int64"
      ]
     },
     "execution_count": 174,
     "metadata": {},
     "output_type": "execute_result"
    }
   ],
   "source": [
    "loan_df['emp_length'].value_counts()"
   ]
  },
  {
   "cell_type": "code",
   "execution_count": 175,
   "id": "14754aaa-6d6e-4a1c-8a38-e7fe383b03e9",
   "metadata": {},
   "outputs": [
    {
     "data": {
      "text/plain": [
       "title\n",
       "Debt Consolidation                          2068\n",
       "Debt Consolidation Loan                     1616\n",
       "Personal Loan                                618\n",
       "Consolidation                                480\n",
       "debt consolidation                           472\n",
       "                                            ... \n",
       "Getting Married and Want No Credit Debt!       1\n",
       "Shannon's personal loan                        1\n",
       "credit card finally gone!!!                    1\n",
       "Taxes 2011                                     1\n",
       "Merging 2 Accounts into one to save $$         1\n",
       "Name: count, Length: 18881, dtype: int64"
      ]
     },
     "execution_count": 175,
     "metadata": {},
     "output_type": "execute_result"
    }
   ],
   "source": [
    "loan_df['title'].value_counts()"
   ]
  },
  {
   "cell_type": "code",
   "execution_count": 176,
   "id": "f40ed8e8-91c4-4208-8008-0d248c40cfcf",
   "metadata": {},
   "outputs": [
    {
     "data": {
      "text/plain": [
       "revol_util\n",
       "0%        919\n",
       "0.20%      60\n",
       "63%        57\n",
       "31.20%     57\n",
       "70.40%     56\n",
       "         ... \n",
       "77.63%      1\n",
       "25.74%      1\n",
       "0.83%       1\n",
       "47.36%      1\n",
       "7.28%       1\n",
       "Name: count, Length: 1088, dtype: int64"
      ]
     },
     "execution_count": 176,
     "metadata": {},
     "output_type": "execute_result"
    }
   ],
   "source": [
    "loan_df['revol_util'].value_counts()              "
   ]
  },
  {
   "cell_type": "code",
   "execution_count": null,
   "id": "64ee03fe-e965-4630-9998-70f32666489c",
   "metadata": {},
   "outputs": [],
   "source": []
  },
  {
   "cell_type": "code",
   "execution_count": 177,
   "id": "32f18823-f04e-44e7-91cc-ec3d9f50855b",
   "metadata": {},
   "outputs": [
    {
     "name": "stdout",
     "output_type": "stream",
     "text": [
      "<class 'pandas.core.frame.DataFrame'>\n",
      "Index: 37880 entries, 0 to 39680\n",
      "Data columns (total 29 columns):\n",
      " #   Column                Non-Null Count  Dtype  \n",
      "---  ------                --------------  -----  \n",
      " 0   loan_amnt             37880 non-null  int64  \n",
      " 1   funded_amnt           37880 non-null  int64  \n",
      " 2   funded_amnt_inv       37880 non-null  float64\n",
      " 3   term                  37880 non-null  object \n",
      " 4   int_rate              37880 non-null  object \n",
      " 5   installment           37880 non-null  float64\n",
      " 6   grade                 37880 non-null  object \n",
      " 7   sub_grade             37880 non-null  object \n",
      " 8   emp_title             37880 non-null  object \n",
      " 9   emp_length            36847 non-null  object \n",
      " 10  home_ownership        37880 non-null  object \n",
      " 11  annual_inc            37880 non-null  float64\n",
      " 12  verification_status   37880 non-null  object \n",
      " 13  issue_d               37880 non-null  object \n",
      " 14  loan_status           37880 non-null  object \n",
      " 15  purpose               37880 non-null  object \n",
      " 16  title                 37869 non-null  object \n",
      " 17  zip_code              37880 non-null  object \n",
      " 18  addr_state            37880 non-null  object \n",
      " 19  dti                   37880 non-null  float64\n",
      " 20  delinq_2yrs           37880 non-null  int64  \n",
      " 21  inq_last_6mths        37880 non-null  int64  \n",
      " 22  open_acc              37880 non-null  int64  \n",
      " 23  pub_rec               37880 non-null  int64  \n",
      " 24  revol_bal             37880 non-null  int64  \n",
      " 25  revol_util            37830 non-null  object \n",
      " 26  total_acc             37880 non-null  int64  \n",
      " 27  last_credit_pull_d    37879 non-null  object \n",
      " 28  pub_rec_bankruptcies  37880 non-null  float64\n",
      "dtypes: float64(5), int64(8), object(16)\n",
      "memory usage: 8.7+ MB\n"
     ]
    }
   ],
   "source": [
    "loan_df.info()"
   ]
  },
  {
   "cell_type": "code",
   "execution_count": 178,
   "id": "fdbd1095-de5c-41b1-bec8-268d040bebea",
   "metadata": {},
   "outputs": [],
   "source": [
    "loan_df = loan_df[~(loan_df['revol_util'].isna())]"
   ]
  },
  {
   "cell_type": "code",
   "execution_count": 179,
   "id": "dc3a151e-a7f0-4a38-9345-cb77cce8d565",
   "metadata": {},
   "outputs": [
    {
     "name": "stdout",
     "output_type": "stream",
     "text": [
      "<class 'pandas.core.frame.DataFrame'>\n",
      "Index: 37830 entries, 0 to 39680\n",
      "Data columns (total 29 columns):\n",
      " #   Column                Non-Null Count  Dtype  \n",
      "---  ------                --------------  -----  \n",
      " 0   loan_amnt             37830 non-null  int64  \n",
      " 1   funded_amnt           37830 non-null  int64  \n",
      " 2   funded_amnt_inv       37830 non-null  float64\n",
      " 3   term                  37830 non-null  object \n",
      " 4   int_rate              37830 non-null  object \n",
      " 5   installment           37830 non-null  float64\n",
      " 6   grade                 37830 non-null  object \n",
      " 7   sub_grade             37830 non-null  object \n",
      " 8   emp_title             37830 non-null  object \n",
      " 9   emp_length            36800 non-null  object \n",
      " 10  home_ownership        37830 non-null  object \n",
      " 11  annual_inc            37830 non-null  float64\n",
      " 12  verification_status   37830 non-null  object \n",
      " 13  issue_d               37830 non-null  object \n",
      " 14  loan_status           37830 non-null  object \n",
      " 15  purpose               37830 non-null  object \n",
      " 16  title                 37819 non-null  object \n",
      " 17  zip_code              37830 non-null  object \n",
      " 18  addr_state            37830 non-null  object \n",
      " 19  dti                   37830 non-null  float64\n",
      " 20  delinq_2yrs           37830 non-null  int64  \n",
      " 21  inq_last_6mths        37830 non-null  int64  \n",
      " 22  open_acc              37830 non-null  int64  \n",
      " 23  pub_rec               37830 non-null  int64  \n",
      " 24  revol_bal             37830 non-null  int64  \n",
      " 25  revol_util            37830 non-null  object \n",
      " 26  total_acc             37830 non-null  int64  \n",
      " 27  last_credit_pull_d    37829 non-null  object \n",
      " 28  pub_rec_bankruptcies  37830 non-null  float64\n",
      "dtypes: float64(5), int64(8), object(16)\n",
      "memory usage: 8.7+ MB\n"
     ]
    }
   ],
   "source": [
    "loan_df.info()"
   ]
  },
  {
   "cell_type": "code",
   "execution_count": 180,
   "id": "46d3e37e-5902-4b87-ad18-33a6c996723b",
   "metadata": {},
   "outputs": [],
   "source": [
    "loan_df = loan_df[~(loan_df['last_credit_pull_d'].isna())]"
   ]
  },
  {
   "cell_type": "code",
   "execution_count": 181,
   "id": "d7c10140-f95f-4131-8ff1-27be948737ea",
   "metadata": {},
   "outputs": [],
   "source": [
    "loan_df = loan_df[~(loan_df['title'].isna())]"
   ]
  },
  {
   "cell_type": "code",
   "execution_count": 182,
   "id": "800f4634-273f-401c-a36b-97ae5761c6e6",
   "metadata": {},
   "outputs": [
    {
     "name": "stdout",
     "output_type": "stream",
     "text": [
      "<class 'pandas.core.frame.DataFrame'>\n",
      "Index: 37818 entries, 0 to 39680\n",
      "Data columns (total 29 columns):\n",
      " #   Column                Non-Null Count  Dtype  \n",
      "---  ------                --------------  -----  \n",
      " 0   loan_amnt             37818 non-null  int64  \n",
      " 1   funded_amnt           37818 non-null  int64  \n",
      " 2   funded_amnt_inv       37818 non-null  float64\n",
      " 3   term                  37818 non-null  object \n",
      " 4   int_rate              37818 non-null  object \n",
      " 5   installment           37818 non-null  float64\n",
      " 6   grade                 37818 non-null  object \n",
      " 7   sub_grade             37818 non-null  object \n",
      " 8   emp_title             37818 non-null  object \n",
      " 9   emp_length            36789 non-null  object \n",
      " 10  home_ownership        37818 non-null  object \n",
      " 11  annual_inc            37818 non-null  float64\n",
      " 12  verification_status   37818 non-null  object \n",
      " 13  issue_d               37818 non-null  object \n",
      " 14  loan_status           37818 non-null  object \n",
      " 15  purpose               37818 non-null  object \n",
      " 16  title                 37818 non-null  object \n",
      " 17  zip_code              37818 non-null  object \n",
      " 18  addr_state            37818 non-null  object \n",
      " 19  dti                   37818 non-null  float64\n",
      " 20  delinq_2yrs           37818 non-null  int64  \n",
      " 21  inq_last_6mths        37818 non-null  int64  \n",
      " 22  open_acc              37818 non-null  int64  \n",
      " 23  pub_rec               37818 non-null  int64  \n",
      " 24  revol_bal             37818 non-null  int64  \n",
      " 25  revol_util            37818 non-null  object \n",
      " 26  total_acc             37818 non-null  int64  \n",
      " 27  last_credit_pull_d    37818 non-null  object \n",
      " 28  pub_rec_bankruptcies  37818 non-null  float64\n",
      "dtypes: float64(5), int64(8), object(16)\n",
      "memory usage: 8.7+ MB\n"
     ]
    }
   ],
   "source": [
    "loan_df.info()"
   ]
  },
  {
   "cell_type": "code",
   "execution_count": 183,
   "id": "f2eddfad-692a-4b60-b84e-3e7e76ddc804",
   "metadata": {},
   "outputs": [
    {
     "data": {
      "text/plain": [
       "loan_amnt               0.000000\n",
       "funded_amnt             0.000000\n",
       "funded_amnt_inv         0.000000\n",
       "term                    0.000000\n",
       "int_rate                0.000000\n",
       "installment             0.000000\n",
       "grade                   0.000000\n",
       "sub_grade               0.000000\n",
       "emp_title               0.000000\n",
       "emp_length              2.720927\n",
       "home_ownership          0.000000\n",
       "annual_inc              0.000000\n",
       "verification_status     0.000000\n",
       "issue_d                 0.000000\n",
       "loan_status             0.000000\n",
       "purpose                 0.000000\n",
       "title                   0.000000\n",
       "zip_code                0.000000\n",
       "addr_state              0.000000\n",
       "dti                     0.000000\n",
       "delinq_2yrs             0.000000\n",
       "inq_last_6mths          0.000000\n",
       "open_acc                0.000000\n",
       "pub_rec                 0.000000\n",
       "revol_bal               0.000000\n",
       "revol_util              0.000000\n",
       "total_acc               0.000000\n",
       "last_credit_pull_d      0.000000\n",
       "pub_rec_bankruptcies    0.000000\n",
       "dtype: float64"
      ]
     },
     "execution_count": 183,
     "metadata": {},
     "output_type": "execute_result"
    }
   ],
   "source": [
    "100 * loan_df.isna().sum() / len(loan_df)"
   ]
  },
  {
   "cell_type": "code",
   "execution_count": 184,
   "id": "5927841c-5a91-4bfa-a1d3-859acb850361",
   "metadata": {},
   "outputs": [
    {
     "data": {
      "text/plain": [
       "(37818, 29)"
      ]
     },
     "execution_count": 184,
     "metadata": {},
     "output_type": "execute_result"
    }
   ],
   "source": [
    "loan_df.shape"
   ]
  },
  {
   "cell_type": "code",
   "execution_count": 185,
   "id": "0bf4ddb6-8241-4882-ad92-3393c946d96c",
   "metadata": {
    "scrolled": true
   },
   "outputs": [
    {
     "data": {
      "text/plain": [
       "emp_length\n",
       "10+ years    8367\n",
       "< 1 year     4328\n",
       "2 years      4202\n",
       "3 years      3947\n",
       "4 years      3288\n",
       "5 years      3154\n",
       "1 year       3070\n",
       "6 years      2132\n",
       "7 years      1685\n",
       "8 years      1408\n",
       "9 years      1208\n",
       "Name: count, dtype: int64"
      ]
     },
     "execution_count": 185,
     "metadata": {},
     "output_type": "execute_result"
    }
   ],
   "source": [
    "loan_df['emp_length'].value_counts()"
   ]
  },
  {
   "cell_type": "code",
   "execution_count": 186,
   "id": "ad4f9cde-f269-486a-8031-1f0a96ff7739",
   "metadata": {},
   "outputs": [
    {
     "data": {
      "text/plain": [
       "0    10+ years\n",
       "Name: emp_length, dtype: object"
      ]
     },
     "execution_count": 186,
     "metadata": {},
     "output_type": "execute_result"
    }
   ],
   "source": [
    "loan_df['emp_length'].mode()"
   ]
  },
  {
   "cell_type": "code",
   "execution_count": 188,
   "id": "3ddaead2-5782-4bbc-beb0-50508faaa7ec",
   "metadata": {},
   "outputs": [],
   "source": [
    "loan_df['emp_length'].fillna('10+ years', inplace=True)"
   ]
  },
  {
   "cell_type": "code",
   "execution_count": 189,
   "id": "789d1852-05d5-433a-98ff-7e5f19fca01b",
   "metadata": {
    "scrolled": true
   },
   "outputs": [
    {
     "data": {
      "text/plain": [
       "loan_amnt               0.0\n",
       "funded_amnt             0.0\n",
       "funded_amnt_inv         0.0\n",
       "term                    0.0\n",
       "int_rate                0.0\n",
       "installment             0.0\n",
       "grade                   0.0\n",
       "sub_grade               0.0\n",
       "emp_title               0.0\n",
       "emp_length              0.0\n",
       "home_ownership          0.0\n",
       "annual_inc              0.0\n",
       "verification_status     0.0\n",
       "issue_d                 0.0\n",
       "loan_status             0.0\n",
       "purpose                 0.0\n",
       "title                   0.0\n",
       "zip_code                0.0\n",
       "addr_state              0.0\n",
       "dti                     0.0\n",
       "delinq_2yrs             0.0\n",
       "inq_last_6mths          0.0\n",
       "open_acc                0.0\n",
       "pub_rec                 0.0\n",
       "revol_bal               0.0\n",
       "revol_util              0.0\n",
       "total_acc               0.0\n",
       "last_credit_pull_d      0.0\n",
       "pub_rec_bankruptcies    0.0\n",
       "dtype: float64"
      ]
     },
     "execution_count": 189,
     "metadata": {},
     "output_type": "execute_result"
    }
   ],
   "source": [
    "100 * loan_df.isna().sum() / len(loan_df)"
   ]
  },
  {
   "cell_type": "code",
   "execution_count": 190,
   "id": "f67b27ec-2cd5-4c3e-812c-837f46b9e0d9",
   "metadata": {
    "scrolled": true
   },
   "outputs": [
    {
     "name": "stdout",
     "output_type": "stream",
     "text": [
      "<class 'pandas.core.frame.DataFrame'>\n",
      "Index: 37818 entries, 0 to 39680\n",
      "Data columns (total 29 columns):\n",
      " #   Column                Non-Null Count  Dtype  \n",
      "---  ------                --------------  -----  \n",
      " 0   loan_amnt             37818 non-null  int64  \n",
      " 1   funded_amnt           37818 non-null  int64  \n",
      " 2   funded_amnt_inv       37818 non-null  float64\n",
      " 3   term                  37818 non-null  object \n",
      " 4   int_rate              37818 non-null  object \n",
      " 5   installment           37818 non-null  float64\n",
      " 6   grade                 37818 non-null  object \n",
      " 7   sub_grade             37818 non-null  object \n",
      " 8   emp_title             37818 non-null  object \n",
      " 9   emp_length            37818 non-null  object \n",
      " 10  home_ownership        37818 non-null  object \n",
      " 11  annual_inc            37818 non-null  float64\n",
      " 12  verification_status   37818 non-null  object \n",
      " 13  issue_d               37818 non-null  object \n",
      " 14  loan_status           37818 non-null  object \n",
      " 15  purpose               37818 non-null  object \n",
      " 16  title                 37818 non-null  object \n",
      " 17  zip_code              37818 non-null  object \n",
      " 18  addr_state            37818 non-null  object \n",
      " 19  dti                   37818 non-null  float64\n",
      " 20  delinq_2yrs           37818 non-null  int64  \n",
      " 21  inq_last_6mths        37818 non-null  int64  \n",
      " 22  open_acc              37818 non-null  int64  \n",
      " 23  pub_rec               37818 non-null  int64  \n",
      " 24  revol_bal             37818 non-null  int64  \n",
      " 25  revol_util            37818 non-null  object \n",
      " 26  total_acc             37818 non-null  int64  \n",
      " 27  last_credit_pull_d    37818 non-null  object \n",
      " 28  pub_rec_bankruptcies  37818 non-null  float64\n",
      "dtypes: float64(5), int64(8), object(16)\n",
      "memory usage: 8.7+ MB\n"
     ]
    }
   ],
   "source": [
    "loan_df.info()"
   ]
  },
  {
   "cell_type": "code",
   "execution_count": 191,
   "id": "44b910cf-9215-4b4c-a53b-5310d59194d2",
   "metadata": {
    "scrolled": true
   },
   "outputs": [
    {
     "data": {
      "text/html": [
       "<div>\n",
       "<style scoped>\n",
       "    .dataframe tbody tr th:only-of-type {\n",
       "        vertical-align: middle;\n",
       "    }\n",
       "\n",
       "    .dataframe tbody tr th {\n",
       "        vertical-align: top;\n",
       "    }\n",
       "\n",
       "    .dataframe thead th {\n",
       "        text-align: right;\n",
       "    }\n",
       "</style>\n",
       "<table border=\"1\" class=\"dataframe\">\n",
       "  <thead>\n",
       "    <tr style=\"text-align: right;\">\n",
       "      <th></th>\n",
       "      <th>term</th>\n",
       "      <th>int_rate</th>\n",
       "      <th>grade</th>\n",
       "      <th>sub_grade</th>\n",
       "      <th>emp_title</th>\n",
       "      <th>emp_length</th>\n",
       "      <th>home_ownership</th>\n",
       "      <th>verification_status</th>\n",
       "      <th>issue_d</th>\n",
       "      <th>loan_status</th>\n",
       "      <th>purpose</th>\n",
       "      <th>title</th>\n",
       "      <th>zip_code</th>\n",
       "      <th>addr_state</th>\n",
       "      <th>revol_util</th>\n",
       "      <th>last_credit_pull_d</th>\n",
       "    </tr>\n",
       "  </thead>\n",
       "  <tbody>\n",
       "    <tr>\n",
       "      <th>count</th>\n",
       "      <td>37818</td>\n",
       "      <td>37818</td>\n",
       "      <td>37818</td>\n",
       "      <td>37818</td>\n",
       "      <td>37818</td>\n",
       "      <td>37818</td>\n",
       "      <td>37818</td>\n",
       "      <td>37818</td>\n",
       "      <td>37818</td>\n",
       "      <td>37818</td>\n",
       "      <td>37818</td>\n",
       "      <td>37818</td>\n",
       "      <td>37818</td>\n",
       "      <td>37818</td>\n",
       "      <td>37818</td>\n",
       "      <td>37818</td>\n",
       "    </tr>\n",
       "    <tr>\n",
       "      <th>unique</th>\n",
       "      <td>2</td>\n",
       "      <td>336</td>\n",
       "      <td>7</td>\n",
       "      <td>35</td>\n",
       "      <td>27506</td>\n",
       "      <td>11</td>\n",
       "      <td>4</td>\n",
       "      <td>3</td>\n",
       "      <td>52</td>\n",
       "      <td>2</td>\n",
       "      <td>14</td>\n",
       "      <td>18848</td>\n",
       "      <td>809</td>\n",
       "      <td>49</td>\n",
       "      <td>1088</td>\n",
       "      <td>97</td>\n",
       "    </tr>\n",
       "    <tr>\n",
       "      <th>top</th>\n",
       "      <td>36 months</td>\n",
       "      <td>10.99%</td>\n",
       "      <td>B</td>\n",
       "      <td>A4</td>\n",
       "      <td>Other</td>\n",
       "      <td>10+ years</td>\n",
       "      <td>RENT</td>\n",
       "      <td>Not Verified</td>\n",
       "      <td>Nov-11</td>\n",
       "      <td>Fully Paid</td>\n",
       "      <td>debt_consolidation</td>\n",
       "      <td>Debt Consolidation</td>\n",
       "      <td>100xx</td>\n",
       "      <td>CA</td>\n",
       "      <td>0%</td>\n",
       "      <td>May-16</td>\n",
       "    </tr>\n",
       "    <tr>\n",
       "      <th>freq</th>\n",
       "      <td>28344</td>\n",
       "      <td>913</td>\n",
       "      <td>11460</td>\n",
       "      <td>2843</td>\n",
       "      <td>2337</td>\n",
       "      <td>9396</td>\n",
       "      <td>18063</td>\n",
       "      <td>15963</td>\n",
       "      <td>2060</td>\n",
       "      <td>32328</td>\n",
       "      <td>17749</td>\n",
       "      <td>2066</td>\n",
       "      <td>557</td>\n",
       "      <td>6857</td>\n",
       "      <td>919</td>\n",
       "      <td>9214</td>\n",
       "    </tr>\n",
       "  </tbody>\n",
       "</table>\n",
       "</div>"
      ],
      "text/plain": [
       "              term int_rate  grade sub_grade emp_title emp_length  \\\n",
       "count        37818    37818  37818     37818     37818      37818   \n",
       "unique           2      336      7        35     27506         11   \n",
       "top      36 months   10.99%      B        A4     Other  10+ years   \n",
       "freq         28344      913  11460      2843      2337       9396   \n",
       "\n",
       "       home_ownership verification_status issue_d loan_status  \\\n",
       "count           37818               37818   37818       37818   \n",
       "unique              4                   3      52           2   \n",
       "top              RENT        Not Verified  Nov-11  Fully Paid   \n",
       "freq            18063               15963    2060       32328   \n",
       "\n",
       "                   purpose               title zip_code addr_state revol_util  \\\n",
       "count                37818               37818    37818      37818      37818   \n",
       "unique                  14               18848      809         49       1088   \n",
       "top     debt_consolidation  Debt Consolidation    100xx         CA         0%   \n",
       "freq                 17749                2066      557       6857        919   \n",
       "\n",
       "       last_credit_pull_d  \n",
       "count               37818  \n",
       "unique                 97  \n",
       "top                May-16  \n",
       "freq                 9214  "
      ]
     },
     "execution_count": 191,
     "metadata": {},
     "output_type": "execute_result"
    }
   ],
   "source": [
    "loan_df.describe(include='object')"
   ]
  },
  {
   "cell_type": "markdown",
   "id": "365f5f4d-13ff-41a6-b9de-ce46673db65c",
   "metadata": {},
   "source": [
    "### Column type checks and type conversion"
   ]
  },
  {
   "cell_type": "code",
   "execution_count": 195,
   "id": "cb951767-9133-4145-9c47-7ffaa7284c3e",
   "metadata": {},
   "outputs": [
    {
     "data": {
      "text/plain": [
       "loan_amnt                 int64\n",
       "funded_amnt               int64\n",
       "funded_amnt_inv         float64\n",
       "term                     object\n",
       "int_rate                 object\n",
       "installment             float64\n",
       "grade                    object\n",
       "sub_grade                object\n",
       "emp_title                object\n",
       "emp_length               object\n",
       "home_ownership           object\n",
       "annual_inc              float64\n",
       "verification_status      object\n",
       "issue_d                  object\n",
       "loan_status              object\n",
       "purpose                  object\n",
       "title                    object\n",
       "zip_code                 object\n",
       "addr_state               object\n",
       "dti                     float64\n",
       "delinq_2yrs               int64\n",
       "inq_last_6mths            int64\n",
       "open_acc                  int64\n",
       "pub_rec                   int64\n",
       "revol_bal                 int64\n",
       "revol_util               object\n",
       "total_acc                 int64\n",
       "last_credit_pull_d       object\n",
       "pub_rec_bankruptcies    float64\n",
       "dtype: object"
      ]
     },
     "execution_count": 195,
     "metadata": {},
     "output_type": "execute_result"
    }
   ],
   "source": [
    "loan_df.dtypes"
   ]
  },
  {
   "cell_type": "code",
   "execution_count": null,
   "id": "e4b7d812-ca84-439d-b4c9-9abe29d5307e",
   "metadata": {},
   "outputs": [],
   "source": []
  }
 ],
 "metadata": {
  "kernelspec": {
   "display_name": "Python 3 (ipykernel)",
   "language": "python",
   "name": "python3"
  },
  "language_info": {
   "codemirror_mode": {
    "name": "ipython",
    "version": 3
   },
   "file_extension": ".py",
   "mimetype": "text/x-python",
   "name": "python",
   "nbconvert_exporter": "python",
   "pygments_lexer": "ipython3",
   "version": "3.12.4"
  }
 },
 "nbformat": 4,
 "nbformat_minor": 5
}
